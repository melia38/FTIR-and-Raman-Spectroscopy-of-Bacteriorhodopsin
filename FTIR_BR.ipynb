{
 "cells": [
  {
   "cell_type": "code",
   "execution_count": null,
   "metadata": {},
   "outputs": [],
   "source": []
  },
  {
   "cell_type": "markdown",
   "metadata": {},
   "source": [
    "Analysis of FTIR Spectra of Bacteriorhodopsin"
   ]
  },
  {
   "cell_type": "markdown",
   "metadata": {},
   "source": [
    "Background of Water and Air"
   ]
  },
  {
   "cell_type": "markdown",
   "metadata": {},
   "source": [
    "Firstly, the background noise should be subtracted from the H2O data."
   ]
  },
  {
   "cell_type": "code",
   "execution_count": null,
   "metadata": {},
   "outputs": [],
   "source": [
    "h2o_data = np.loadtxt('/Users/melisaaykul/Desktop/FTIR_txt/H2O_reference.0001.txt')\n",
    "background_data = np.loadtxt('/Users/melisaaykul/Desktop/FTIR_txt/S0_backg_checks.0001.txt')\n",
    "\n",
    "if h2o_data.shape != background_data.shape:\n",
    "    raise ValueError(\"The H2O data and background data must have the same shape\")\n",
    "\n",
    "x_values = h2o_data[:, 0]\n",
    "h2o_y_values = h2o_data[:, 1]\n",
    "background_y_values = background_data[:, 1]\n",
    "subtracted_y_values = h2o_y_values - background_y_values\n",
    "subtracted_data = np.column_stack((x_values, subtracted_y_values))\n",
    "output_file = '/Users/melisaaykul/Desktop/FTIR_txt/subtracted_H2O.txt'\n",
    "np.savetxt(output_file, subtracted_data, fmt='%0.8e', header='X Y')\n"
   ]
  },
  {
   "cell_type": "code",
   "execution_count": null,
   "metadata": {},
   "outputs": [],
   "source": [
    "import numpy as np\n",
    "import matplotlib.pyplot as plt\n",
    "\n",
    "# Load the data\n",
    "data = np.loadtxt('/Users/melisaaykul/Desktop/FTIR_txt/subtracted_H2O.txt') \n",
    "\n",
    "x = data[:, 0]\n",
    "y = data[:, 1]\n",
    "\n",
    "plt.figure(figsize=(8, 6))\n",
    "plt.plot(x, y, linestyle='-', color='b', label='Data')\n",
    "plt.xlabel('Wavenumber(cm$^{-1}$)')\n",
    "plt.ylabel('Absorbance')\n",
    "plt.title('H$_{2}$O Spectra')\n",
    "plt.grid(True)\n",
    "# Invert the x-axis\n",
    "plt.gca().invert_xaxis()\n",
    "plt.show()"
   ]
  },
  {
   "cell_type": "markdown",
   "metadata": {},
   "source": [
    "Same procedure for air part."
   ]
  },
  {
   "cell_type": "code",
   "execution_count": null,
   "metadata": {},
   "outputs": [],
   "source": [
    "air_data = np.loadtxt('/Users/melisaaykul/Desktop/FTIR_txt/air_reference.0004.txt')\n",
    "background_data = np.loadtxt('/Users/melisaaykul/Desktop/FTIR_txt/S0_backg_checks.0001.txt')\n",
    "\n",
    "if air_data.shape != background_data.shape:\n",
    "    raise ValueError(\"The air data and background data must have the same shape\")\n",
    "\n",
    "\n",
    "x_values = air_data[:, 0]\n",
    "air_y_values = air_data[:, 1]\n",
    "background_y_values = background_data[:, 1]\n",
    "subtracted_y_values = air_y_values - background_y_values\n",
    "subtracted_data = np.column_stack((x_values, subtracted_y_values))\n",
    "output_file = '/Users/melisaaykul/Desktop/FTIR_txt/subtracted_air.txt'\n",
    "np.savetxt(output_file, subtracted_data, fmt='%0.8e', header='X Y')"
   ]
  },
  {
   "cell_type": "code",
   "execution_count": null,
   "metadata": {},
   "outputs": [],
   "source": [
    "data = np.loadtxt('/Users/melisaaykul/Desktop/FTIR_txt/subtracted_air.txt')  # Replace 'data.txt' with your file name\n",
    "x = data[:, 0]\n",
    "y = data[:, 1]\n",
    "\n",
    "plt.figure(figsize=(8, 6))\n",
    "plt.plot(x, y, linestyle='-', color='b', label='Data')\n",
    "plt.xlabel('Wavenumber(cm$^{-1}$)')\n",
    "plt.ylabel('Absorbance')\n",
    "plt.title('Air Spectra')\n",
    "\n",
    "plt.grid(True)\n",
    "plt.gca().invert_xaxis()\n",
    "plt.show()"
   ]
  },
  {
   "cell_type": "markdown",
   "metadata": {},
   "source": [
    "Bacteriorhopsin are observed in two different states. The first one is drying process. More then 10 spectra are collected then Amide I and Amide II regions are marked."
   ]
  },
  {
   "cell_type": "code",
   "execution_count": null,
   "metadata": {},
   "outputs": [],
   "source": [
    "import glob\n",
    "import os\n",
    "\n",
    "directory = \"/Users/melisaaykul/Desktop/FTIR_txt\"\n",
    "file_pattern = os.path.join(directory, \"drying_purple_membrane.00*.txt\")\n",
    "\n",
    "# Get a list of all files matching the pattern\n",
    "files = glob.glob(file_pattern)\n",
    "\n",
    "plt.figure(figsize=(10, 8))\n",
    "\n",
    "# Loop through each file, load the data, and plot it\n",
    "for file in files:\n",
    "    data = np.loadtxt(file)\n",
    "    x = data[:, 0]\n",
    "    y = data[:, 1]\n",
    "    plt.plot(x, y, label=os.path.basename(file)) \n",
    "\n",
    "\n",
    "plt.xlabel('Wavenumber (cm$^{-1}$)')\n",
    "plt.ylabel('Absorbance')\n",
    "plt.title('Drying Process of BR')\n",
    "plt.grid(True)\n",
    "plt.gca().invert_xaxis()\n",
    "\n",
    "# Add dashed lines for Amide I and Amide II bands\n",
    "plt.axvline(x=1650, color='r', linestyle='--', linewidth=1, label='Amide I')\n",
    "plt.axvline(x=1550, color='b', linestyle='--', linewidth=1, label='Amide II')\n",
    "plt.show()"
   ]
  },
  {
   "cell_type": "markdown",
   "metadata": {},
   "source": [
    "At 567 nm, the purple membrane are left to dry. The data are saved for 30 mins. "
   ]
  },
  {
   "cell_type": "code",
   "execution_count": null,
   "metadata": {},
   "outputs": [],
   "source": [
    "\n",
    "\n",
    "directory = \"/Users/melisaaykul/Desktop/FTIR_txt\"\n",
    "file_pattern = os.path.join(directory, \"dry_purple_membrane_567nm_photoreaction_off.00*.txt\")\n",
    "\n",
    "# Get a list of all files matching the pattern\n",
    "files = glob.glob(file_pattern)\n",
    "\n",
    "# Sort the files to ensure they are in the correct order for plotting over time\n",
    "files.sort()\n",
    "\n",
    "times = np.linspace(0, 30, len(files))  \n",
    "intensities = []\n",
    "\n",
    "for file in files:\n",
    "    data = np.loadtxt(file)\n",
    "    intensity = data[:, 1]  \n",
    "    intensities.append(intensity)\n",
    "\n",
    "intensities = np.array(intensities)\n",
    "\n",
    "\n",
    "plt.figure(figsize=(10, 8))\n",
    "\n",
    "# Loop through each time point and plot the corresponding intensity values\n",
    "for i, time in enumerate(times):\n",
    "    plt.plot(data[:, 0], intensities[i], label=f'Time: {time:.1f} min')\n",
    "\n",
    "plt.xlabel('Time')\n",
    "plt.ylabel('Intensity')\n",
    "plt.title('FTIR Spectra of Dry Purple Membrane over Time')\n",
    "plt.grid(True)\n",
    "plt.gca().invert_xaxis()\n",
    "plt.legend(loc='upper right')\n",
    "plt.show()\n"
   ]
  }
 ],
 "metadata": {
  "kernelspec": {
   "display_name": "Python 3",
   "language": "python",
   "name": "python3"
  },
  "language_info": {
   "name": "python",
   "version": "3.12.0"
  }
 },
 "nbformat": 4,
 "nbformat_minor": 2
}
